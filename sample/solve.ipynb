{
 "cells": [
  {
   "cell_type": "code",
   "execution_count": null,
   "metadata": {},
   "outputs": [],
   "source": [
    "N = int(input())\n",
    "N, K = map(int, input().split())\n",
    "A = list(map(int, input().split()))\n",
    "A = [int(input()) for _ in range(N)]\n",
    "A = list(map(lambda x: int(x) - 1, input().split()))"
   ]
  }
 ],
 "metadata": {
  "language_info": {
   "name": "python"
  }
 },
 "nbformat": 4,
 "nbformat_minor": 2
}
